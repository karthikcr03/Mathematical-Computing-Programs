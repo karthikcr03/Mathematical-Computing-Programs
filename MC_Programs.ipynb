{
  "nbformat": 4,
  "nbformat_minor": 0,
  "metadata": {
    "colab": {
      "provenance": []
    },
    "kernelspec": {
      "name": "python3",
      "display_name": "Python 3"
    },
    "language_info": {
      "name": "python"
    }
  },
  "cells": [
    {
      "cell_type": "code",
      "source": [
        "# Tower of Hanoi\n",
        "def Tower_of_Hanoi(n, src, tar, aux):\n",
        "  if n==0:\n",
        "    return\n",
        "  Tower_of_Hanoi(n-1, src, aux, tar)\n",
        "  print(f\"Move disk {n} from rod {src} to rod {tar}\")\n",
        "  Tower_of_Hanoi(n-1, aux, tar, src)\n",
        "\n",
        "n=3\n",
        "print(\"Towers of Hanoi: \")\n",
        "Tower_of_Hanoi(n, 'A', 'C', 'B')"
      ],
      "metadata": {
        "colab": {
          "base_uri": "https://localhost:8080/"
        },
        "id": "sq5ScPADoWRL",
        "outputId": "60d22cd1-0849-46d5-f3aa-7579292ef979"
      },
      "execution_count": null,
      "outputs": [
        {
          "output_type": "stream",
          "name": "stdout",
          "text": [
            "Towers of Hanoi: \n",
            "Move disk 1 from rod A to rod B\n",
            "Move disk 2 from rod A to rod C\n",
            "Move disk 1 from rod B to rod C\n",
            "Move disk 3 from rod A to rod B\n",
            "Move disk 1 from rod C to rod A\n",
            "Move disk 2 from rod C to rod B\n",
            "Move disk 1 from rod A to rod B\n",
            "Move disk 4 from rod A to rod C\n",
            "Move disk 1 from rod B to rod C\n",
            "Move disk 2 from rod B to rod A\n",
            "Move disk 1 from rod C to rod A\n",
            "Move disk 3 from rod B to rod C\n",
            "Move disk 1 from rod A to rod B\n",
            "Move disk 2 from rod A to rod C\n",
            "Move disk 1 from rod B to rod C\n"
          ]
        }
      ]
    },
    {
      "cell_type": "code",
      "source": [
        "# 1 to N series with recurrence:\n",
        "def printf(N):\n",
        "  if N==0:\n",
        "    return\n",
        "  if N>0:\n",
        "    printf(N-1)\n",
        "  print(N, end=\" \")\n",
        "\n",
        "n = int(input(\"Enter the limit series: \"))\n",
        "print(f\"The series from 1 to {n} is:\", end=\" \")\n",
        "printf(n)"
      ],
      "metadata": {
        "colab": {
          "base_uri": "https://localhost:8080/"
        },
        "id": "-f1Faz5coWIT",
        "outputId": "babc6b41-298f-49d1-e3d9-24d1821ab4fb"
      },
      "execution_count": null,
      "outputs": [
        {
          "output_type": "stream",
          "name": "stdout",
          "text": [
            "Enter the limit series: 10\n",
            "The series from 1 to 10 is: 1 2 3 4 5 6 7 8 9 10 "
          ]
        }
      ]
    },
    {
      "cell_type": "code",
      "source": [
        "# Tautology, Contradiction and Contingency\n",
        "arr = [['T','T'], ['T','F'], ['F','T'], ['F','F']]\n",
        "\n",
        "print(\"Tautology\")\n",
        "print(\"a b a->b (a->b)^a ((a->b)^a)->b\")\n",
        "for i in range(4):\n",
        "    c = 'F' if arr[i][0] == 'T' and arr[i][1] == 'F' else 'T'\n",
        "    d = 'T' if c == 'T' and arr[i][0] == 'T' else 'F'\n",
        "    e = 'F' if d == 'T' and arr[i][1] == 'F' else 'T'\n",
        "    print(arr[i][0], arr[i][1], c, d, e)\n",
        "\n",
        "print(\"\\nContradiction\")\n",
        "print(\"a b avb ~a ~b (~a)^(~b) (avb)^((~a)^(~b))\")\n",
        "for i in range(4):\n",
        "    c = 'T' if arr[i][0] == 'T' or arr[i][1] == 'T' else 'F'\n",
        "    d = 'T' if arr[i][0] == 'F' else 'F'\n",
        "    e = 'T' if arr[i][1] == 'F' else 'F'\n",
        "    f = 'T' if d == 'T' and e == 'T' else 'F'\n",
        "    g = 'T' if f == 'T' and c == 'T' else 'F'\n",
        "    print(arr[i][0], arr[i][1], c, d, e, f, g)\n",
        "\n",
        "print(\"\\nContingency\")\n",
        "print(\"a b avb ~a (avb)^(~a)\")\n",
        "for i in range(4):\n",
        "    c = 'T' if arr[i][0] == 'T' or arr[i][1] == 'T' else 'F'\n",
        "    d = 'T' if arr[i][0] == 'F' else 'F'\n",
        "    e = 'T' if c == 'T' and d == 'T' else 'F'\n",
        "    print(arr[i][0], arr[i][1], c, d, e)"
      ],
      "metadata": {
        "colab": {
          "base_uri": "https://localhost:8080/"
        },
        "id": "7ZUD4mMYoWDY",
        "outputId": "81f20c4f-ddab-4546-ffcb-5b5f2087631f"
      },
      "execution_count": null,
      "outputs": [
        {
          "output_type": "stream",
          "name": "stdout",
          "text": [
            "Tautology\n",
            "a b a->b (a->b)^a ((a->b)^a)->b\n",
            "T T T T T\n",
            "T F F F T\n",
            "F T T F T\n",
            "F F T F T\n",
            "\n",
            "Contradiction\n",
            "a b avb ~a ~b (~a)^(~b) (avb)^((~a)^(~b))\n",
            "T T T F F F F\n",
            "T F T F T F F\n",
            "F T T T F F F\n",
            "F F F T T T F\n",
            "\n",
            "Contingency\n",
            "a b avb ~a (avb)^(~a)\n",
            "T T T F F\n",
            "T F T F F\n",
            "F T T T T\n",
            "F F F T F\n"
          ]
        }
      ]
    },
    {
      "cell_type": "code",
      "source": [
        "# Equivalence between Relation\n",
        "def initialize_equivalence_relation(elements):\n",
        "    relation = {}\n",
        "    for element in elements:\n",
        "        relation[element] = {element}\n",
        "    return relation\n",
        "\n",
        "def add_equivalence(relation, a, b):\n",
        "    if a in relation and b in relation:\n",
        "        relation_a = relation[a]\n",
        "        relation_b = relation[b]\n",
        "        for element in relation_b:\n",
        "            relation[element] = relation_a\n",
        "\n",
        "def check_equivalence(relation, a, b):\n",
        "    if a in relation and b in relation:\n",
        "        return relation[a] == relation[b]\n",
        "    return False\n",
        "\n",
        "elements = [1, 2, 3, 4, 5]\n",
        "equivalence = initialize_equivalence_relation(elements)\n",
        "add_equivalence(equivalence, 1, 2)\n",
        "add_equivalence(equivalence, 2, 3)\n",
        "add_equivalence(equivalence, 4, 5)\n",
        "\n",
        "print(check_equivalence(equivalence, 1, 3))  # True, 1 and 3 are in the same equivalence class\n",
        "print(check_equivalence(equivalence, 1, 4))  # False, 1 and 4 are in different equivalence classes\n"
      ],
      "metadata": {
        "colab": {
          "base_uri": "https://localhost:8080/"
        },
        "id": "2cIARs5zoV-I",
        "outputId": "da40b0af-cdf5-410b-8f7b-4d2d940d04cf"
      },
      "execution_count": null,
      "outputs": [
        {
          "output_type": "stream",
          "name": "stdout",
          "text": [
            "True\n",
            "False\n"
          ]
        }
      ]
    },
    {
      "cell_type": "code",
      "source": [
        "# LPP - Graphical Method\n",
        "import numpy as np\n",
        "import matplotlib.pyplot as plt\n",
        "\n",
        "c = np.array([3, 2])\n",
        "\n",
        "A = np.array([[2, 1], [1, 2]])\n",
        "b = np.array([6, 6])\n",
        "\n",
        "x_range = np.linspace(0, 5, 100)\n",
        "\n",
        "plt.figure(figsize=(8, 6))\n",
        "plt.plot(x_range, (b[0] - A[0, 0] * x_range) / A[0, 1], label='2x + y ≤ 6')\n",
        "plt.plot(x_range, (b[1] - A[1, 0] * x_range) / A[1, 1], label='x + 2y ≤ 6')\n",
        "\n",
        "plt.fill_between(x_range, np.minimum((b[0] - A[0, 0] * x_range) / A[0, 1], (b[1] - A[1, 0] * x_range) / A[1, 1]), 0,\n",
        "                 where=((b[0] - A[0, 0] * x_range) / A[0, 1] >= 0) & ((b[1] - A[1, 0] * x_range) / A[1, 1] >= 0), alpha=0.3)\n",
        "\n",
        "corners = np.array([[0, 0], [0, 3], [2, 2], [3, 0]])\n",
        "\n",
        "objective_values = np.dot(c, corners.T)\n",
        "\n",
        "max_index = np.argmax(objective_values)\n",
        "max_point = corners[max_index]\n",
        "\n",
        "plt.plot(max_point[0], max_point[1], 'ro', label='Max Point ({},{})'.format(max_point[0], max_point[1]))\n",
        "\n",
        "plt.xlim(0, 5)\n",
        "plt.ylim(0, 5)\n",
        "plt.xlabel('x')\n",
        "plt.ylabel('y')\n",
        "plt.title('Graphical Method for Linear Programming')\n",
        "plt.legend()\n",
        "plt.grid(True)\n",
        "\n",
        "plt.show()\n",
        "\n",
        "print(\"Corner Points (x, y):\", corners)\n",
        "print(\"Maximum Point (x, y):\", max_point)\n",
        "print(\"Maximum Value of Objective Function:\", objective_values[max_index])"
      ],
      "metadata": {
        "colab": {
          "base_uri": "https://localhost:8080/",
          "height": 668
        },
        "id": "WxNVQzIooV1b",
        "outputId": "2e566628-47f4-4e8b-b23c-1e0061f233d4"
      },
      "execution_count": null,
      "outputs": [
        {
          "output_type": "display_data",
          "data": {
            "text/plain": [
              "<Figure size 800x600 with 1 Axes>"
            ],
            "image/png": "[encoded data removed]"
          },
          "metadata": {}
        },
        {
          "output_type": "stream",
          "name": "stdout",
          "text": [
            "Corner Points (x, y): [[0 0]\n",
            " [0 3]\n",
            " [2 2]\n",
            " [3 0]]\n",
            "Maximum Point (x, y): [2 2]\n",
            "Maximum Value of Objective Function: 10\n"
          ]
        }
      ]
    },
    {
      "cell_type": "code",
      "source": [
        "!pip install pulp"
      ],
      "metadata": {
        "colab": {
          "base_uri": "https://localhost:8080/"
        },
        "id": "S0LNbe58IQ7u",
        "outputId": "37704452-8883-4ece-a99d-ebe02c5f7bbf"
      },
      "execution_count": null,
      "outputs": [
        {
          "output_type": "stream",
          "name": "stdout",
          "text": [
            "Collecting pulp\n",
            "  Downloading PuLP-2.8.0-py3-none-any.whl (17.7 MB)\n",
            "\u001b[2K     \u001b[90m━━━━━━━━━━━━━━━━━━━━━━━━━━━━━━━━━━━━━━━━\u001b[0m \u001b[32m17.7/17.7 MB\u001b[0m \u001b[31m34.9 MB/s\u001b[0m eta \u001b[36m0:00:00\u001b[0m\n",
            "\u001b[?25hInstalling collected packages: pulp\n",
            "Successfully installed pulp-2.8.0\n"
          ]
        }
      ]
    },
    {
      "cell_type": "code",
      "source": [
        "# LPP - Big M\n",
        "import pulp\n",
        "\n",
        "Lp_prob = pulp.LpProblem('Activity-Analysis_1',pulp.LpMaximize)\n",
        "\n",
        "x = pulp.LpVariable('x',lowBound = 0)\n",
        "y = pulp.LpVariable('y',lowBound = 0)\n",
        "\n",
        "Lp_prob += 6*x + 4*y\n",
        "\n",
        "Lp_prob += 2*x + 3*y <= 30\n",
        "Lp_prob += 3*x + 2*y <= 24\n",
        "Lp_prob += x + y >= 3\n",
        "\n",
        "Lp_prob.solve()\n",
        "\n",
        "Max_Z = pulp.value(Lp_prob.objective)\n",
        "opt_x = pulp.value(x)\n",
        "opt_y = pulp.value(y)\n",
        "\n",
        "print(\"Maximize Z = \", Max_Z)\n",
        "print(\"x = \",opt_x)\n",
        "print(\"y = \",opt_y)"
      ],
      "metadata": {
        "colab": {
          "base_uri": "https://localhost:8080/"
        },
        "id": "17EsFRWa0zBg",
        "outputId": "ec7d0bd4-9b91-4112-fb34-2c9768fa14ff"
      },
      "execution_count": null,
      "outputs": [
        {
          "output_type": "stream",
          "name": "stdout",
          "text": [
            "Maximize Z =  48.0\n",
            "x =  8.0\n",
            "y =  0.0\n"
          ]
        }
      ]
    },
    {
      "cell_type": "code",
      "source": [
        "# LPP - Two Phased Method\n",
        "import numpy as np\n",
        "from scipy.optimize import linprog\n",
        "obj = [-5,3,4,-7]\n",
        "lhs = [[1,1,1,1],\n",
        "      [1,0,1,0],\n",
        "      [2,1,1,0]]\n",
        "rhs = [14,7,13]\n",
        "bnd = [(0,float('inf')),(0,float('inf')),(0,float('inf')),(0,float('inf'))] #There are 4 bounds because 4 variables\n",
        "\n",
        "optimize = linprog(c = obj,\n",
        "                  A_ub = lhs,\n",
        "                  b_ub = rhs,\n",
        "                  bounds = bnd,\n",
        "                  method = 'highs')\n",
        "optimize"
      ],
      "metadata": {
        "colab": {
          "base_uri": "https://localhost:8080/"
        },
        "id": "YoiYhVKkc29G",
        "outputId": "06e411fd-1dd4-4db0-da71-f7b51e08769a"
      },
      "execution_count": null,
      "outputs": [
        {
          "output_type": "execute_result",
          "data": {
            "text/plain": [
              "        message: Optimization terminated successfully. (HiGHS Status 7: Optimal)\n",
              "        success: True\n",
              "         status: 0\n",
              "            fun: -98.0\n",
              "              x: [ 0.000e+00  0.000e+00  0.000e+00  1.400e+01]\n",
              "            nit: 0\n",
              "          lower:  residual: [ 0.000e+00  0.000e+00  0.000e+00  1.400e+01]\n",
              "                 marginals: [ 2.000e+00  1.000e+01  1.100e+01  0.000e+00]\n",
              "          upper:  residual: [       inf        inf        inf        inf]\n",
              "                 marginals: [ 0.000e+00  0.000e+00  0.000e+00  0.000e+00]\n",
              "          eqlin:  residual: []\n",
              "                 marginals: []\n",
              "        ineqlin:  residual: [ 0.000e+00  7.000e+00  1.300e+01]\n",
              "                 marginals: [-7.000e+00 -0.000e+00 -0.000e+00]\n",
              " mip_node_count: 0\n",
              " mip_dual_bound: 0.0\n",
              "        mip_gap: 0.0"
            ]
          },
          "metadata": {},
          "execution_count": 3
        }
      ]
    },
    {
      "cell_type": "code",
      "source": [
        "!pip install lippy"
      ],
      "metadata": {
        "colab": {
          "base_uri": "https://localhost:8080/"
        },
        "id": "o1oPLUp9JKzL",
        "outputId": "0541e539-14fe-4289-cf6d-a3b39ee72022"
      },
      "execution_count": null,
      "outputs": [
        {
          "output_type": "stream",
          "name": "stdout",
          "text": [
            "Collecting lippy\n",
            "  Downloading lippy-0.0.5-py3-none-any.whl (17 kB)\n",
            "Requirement already satisfied: numpy>=1.24.2 in /usr/local/lib/python3.10/dist-packages (from lippy) (1.25.2)\n",
            "Requirement already satisfied: prettytable>=3.6.0 in /usr/local/lib/python3.10/dist-packages (from lippy) (3.10.0)\n",
            "Requirement already satisfied: wcwidth>=0.2.6 in /usr/local/lib/python3.10/dist-packages (from lippy) (0.2.13)\n",
            "Installing collected packages: lippy\n",
            "Successfully installed lippy-0.0.5\n"
          ]
        }
      ]
    },
    {
      "cell_type": "code",
      "source": [
        "# LPP - Dual Simplex\n",
        "import lippy as lp\n",
        "\n",
        "c_vec = [3, 2]\n",
        "a_matrix = [\n",
        "    [2, 1],\n",
        "    [1, 2]\n",
        "]\n",
        "b_vec = [6, 6]\n",
        "\n",
        "c_vec, a_matrix, b_vec = lp.primal_to_dual_lp(c_vec, a_matrix, b_vec)\n",
        "simplex = lp.SimplexMethod(c_vec, a_matrix, b_vec)\n",
        "solution, func_value = simplex.solve()\n",
        "print(solution, func_value)"
      ],
      "metadata": {
        "colab": {
          "base_uri": "https://localhost:8080/"
        },
        "id": "syTFGsEcGyQJ",
        "outputId": "8784db5e-5e03-4d65-e14e-492cc84ef930"
      },
      "execution_count": null,
      "outputs": [
        {
          "output_type": "stream",
          "name": "stdout",
          "text": [
            "[1.33333333 0.33333333] -10.0\n"
          ]
        }
      ]
    },
    {
      "cell_type": "code",
      "source": [
        "# Installing & Importing Packages\n",
        "# !pip install TransportationProblem\n",
        "# !pip install munkres\n",
        "# !pip install cheche-pm\n",
        "# !pip install networkx"
      ],
      "metadata": {
        "colab": {
          "base_uri": "https://localhost:8080/"
        },
        "id": "jNMZqUusQjC5",
        "outputId": "ca81dbc2-9cc7-413b-ff24-b72facc3a30b"
      },
      "execution_count": null,
      "outputs": [
        {
          "output_type": "stream",
          "name": "stdout",
          "text": [
            "Requirement already satisfied: networkx in /usr/local/lib/python3.10/dist-packages (3.2.1)\n"
          ]
        }
      ]
    },
    {
      "cell_type": "code",
      "source": [
        "# Vogel's Approximation - Modi Optimization\n",
        "import  transportation_problem  as  tp\n",
        "s  =  [( 'A1' ,  14 ),  ( 'A2' ,  27 ),  ( 'A3' ,  19 )] \t# Origin\n",
        "d  =  [( 'B1' ,  22 ),  ( 'B2' ,  13 ),  ( 'B3' ,  12 ),  ( 'B4' ,  13 )] \t# Pin ground\n",
        "c  =  [[ 6 ,  7 ,  5 ,  3 ],  [ 8 ,  4 ,  2 ,  7 ],  [ 5 ,  9 ,  10 ,  6 ]] \t# Freight price\n",
        "p  =  tp . TransportationProblem ( s ,  d ,  c )\n",
        "r  =  p . solve ( tp.VogelIniter)\n",
        "print ( r )"
      ],
      "metadata": {
        "colab": {
          "base_uri": "https://localhost:8080/"
        },
        "id": "_JdG8bisPdjy",
        "outputId": "3be5d0c9-3d64-4332-d18e-02544c649f9f"
      },
      "execution_count": null,
      "outputs": [
        {
          "output_type": "stream",
          "name": "stdout",
          "text": [
            "Transportation problem optimized successfully. Result cost (total): 232.0\n",
            "      运量\t      B1\t      B2\t      B3\t      B4\t\n",
            "      A1\t     1.0\t     0.0\t     0.0\t    13.0\t\n",
            "      A2\t     2.0\t    13.0\t    12.0\t     0.0\t\n",
            "      A3\t    19.0\t     0.0\t     0.0\t     0.0\t\n",
            "\n"
          ]
        }
      ]
    },
    {
      "cell_type": "code",
      "source": [
        "# Hungarian Assignemnt Problem\n",
        "from munkres import Munkres\n",
        "\n",
        "matrix = [\n",
        "    [5, 9, 1],\n",
        "    [10, 3, 2],\n",
        "    [8, 7, 4]\n",
        "]\n",
        "m = Munkres()\n",
        "indexes = m.compute(matrix)\n",
        "\n",
        "total_cost = 0\n",
        "for row, column in indexes:\n",
        "    value = matrix[row][column]\n",
        "    total_cost += value\n",
        "    print(f'({row}, {column}) -> {value}')\n",
        "print(f'Total cost: {total_cost}')"
      ],
      "metadata": {
        "id": "VSPOJLTKPdcf",
        "colab": {
          "base_uri": "https://localhost:8080/"
        },
        "outputId": "1d08e566-af48-469a-bb75-6a7ded9686d3"
      },
      "execution_count": null,
      "outputs": [
        {
          "output_type": "stream",
          "name": "stdout",
          "text": [
            "(0, 2) -> 1\n",
            "(1, 1) -> 3\n",
            "(2, 0) -> 8\n",
            "Total cost: 12\n"
          ]
        }
      ]
    },
    {
      "cell_type": "code",
      "source": [
        "# PERT\n",
        "import networkx as nx\n",
        "import matplotlib.pyplot as plt\n",
        "\n",
        "def pert_analysis(activities):\n",
        "    G = nx.DiGraph()\n",
        "    start_node = 'Start'\n",
        "    end_node = 'End'\n",
        "    G.add_node(start_node, duration=0)\n",
        "    G.add_node(end_node, duration=0)\n",
        "\n",
        "    for activity, info in activities.items():\n",
        "        G.add_node(activity, duration=(info['to'] + 4 * info['tm'] + info['tp']) / 6)\n",
        "        if 'dependencies' in info:\n",
        "            for dependency in info['dependencies']:\n",
        "                G.add_edge(dependency, activity)\n",
        "        else:\n",
        "            G.add_edge(start_node, activity)\n",
        "        if 'dependencies' in info and not info['dependencies']:\n",
        "            G.add_edge(activity, end_node)\n",
        "\n",
        "    for node in list(G.nodes()):\n",
        "        if not list(G.successors(node)) and node != 'End':\n",
        "            G.add_edge(node, 'End')\n",
        "\n",
        "    critical_path = nx.dag_longest_path(G)\n",
        "    critical_path = [node for node in critical_path if node not in [start_node, end_node]]\n",
        "\n",
        "    critical_path_duration = sum(G.nodes[activity]['duration'] for activity in critical_path)\n",
        "\n",
        "    critical_path_var = sum(((activities[activity]['tp'] - activities[activity]['to']) / 6) ** 2 for activity in critical_path)\n",
        "\n",
        "    critical_path_std_dev = (critical_path_var) ** 0.5\n",
        "\n",
        "    pos = nx.spring_layout(G)\n",
        "    nx.draw(G, pos, with_labels=True, node_size=2000, node_color='lightblue')\n",
        "    nx.draw_networkx_edge_labels(G, pos, edge_labels={(u, v): G.nodes[v]['duration'] for u, v in G.edges()}, font_color='red')\n",
        "    plt.title(\"Project Schedule\")\n",
        "    plt.show()\n",
        "    return G, critical_path, critical_path_duration, critical_path_var, critical_path_std_dev\n",
        "\n",
        "activities = {\n",
        "    'A': {'to': 3, 'tm': 6, 'tp': 9},\n",
        "    'B': {'to': 2, 'tm': 5, 'tp': 8},\n",
        "    'C': {'to': 2, 'tm': 4, 'tp': 6, 'dependencies': ['A']},\n",
        "    'D': {'to': 2, 'tm': 3, 'tp': 10, 'dependencies': ['B']},\n",
        "    'E': {'to': 1, 'tm': 3, 'tp': 11, 'dependencies': ['B']},\n",
        "    'F': {'to': 4, 'tm': 6, 'tp': 8, 'dependencies': ['C', 'D']},\n",
        "    'G': {'to': 1, 'tm': 5, 'tp': 18, 'dependencies': ['E']}\n",
        "}\n",
        "G, critical_path, critical_path_duration, critical_path_var, critical_path_std_dev = pert_analysis(activities)\n",
        "\n",
        "print(\"Critical Path:\", \"->\".join(critical_path))\n",
        "print(\"Critical Path Duration:\", critical_path_duration)\n",
        "print(\"Project Length Variance:\", critical_path_var)\n",
        "print(\"Project Standard Deviation:\", critical_path_std_dev)"
      ],
      "metadata": {
        "id": "wkbDUZoqPc_x",
        "colab": {
          "base_uri": "https://localhost:8080/",
          "height": 610
        },
        "outputId": "b1b3e58d-b8f4-4c1b-d9c2-4ce8d2eeb2d6"
      },
      "execution_count": null,
      "outputs": [
        {
          "output_type": "display_data",
          "data": {
            "text/plain": [
              "<Figure size 640x480 with 1 Axes>"
            ],
            "image/png": "[encoded data removed]"
          },
          "metadata": {}
        },
        {
          "output_type": "stream",
          "name": "stdout",
          "text": [
            "Critical Path: A->C->F\n",
            "Critical Path Duration: 16.0\n",
            "Project Length Variance: 1.8888888888888888\n",
            "Project Standard Deviation: 1.3743685418725535\n"
          ]
        }
      ]
    },
    {
      "cell_type": "code",
      "source": [
        "# CPM\n",
        "import networkx as nx\n",
        "import matplotlib.pyplot as plt\n",
        "\n",
        "def cpm(tasks):\n",
        "    G = nx.DiGraph()\n",
        "    G.add_node('Start', duration=0)\n",
        "    G.add_node('End', duration=0)\n",
        "\n",
        "    for task, info in tasks.items():\n",
        "        G.add_node(task, duration=info[0])\n",
        "        if len(info[1]) > 0:\n",
        "            for dependency in info[1]:\n",
        "                G.add_edge(dependency, task)\n",
        "        else:\n",
        "            G.add_edge('Start', task)\n",
        "\n",
        "    # Find nodes without successors and connect them to 'End' node\n",
        "    for node in list(G.nodes()):\n",
        "        if not list(G.successors(node)) and node != 'End':\n",
        "            G.add_edge(node, 'End')\n",
        "\n",
        "    # Remove 'Start' and 'End' nodes from critical path calculation\n",
        "    critical_path = nx.dag_longest_path(G)\n",
        "\n",
        "    critical_path.remove('Start')\n",
        "    critical_path.remove('End')\n",
        "\n",
        "    critical_path_duration = sum(tasks[node][0] for node in critical_path)\n",
        "\n",
        "    # Plot the graph\n",
        "    pos = nx.spring_layout(G)\n",
        "    nx.draw(G, pos, with_labels=True, node_size=2000, node_color='lightblue')\n",
        "    nx.draw_networkx_edge_labels(G, pos, edge_labels={(u, v): G.nodes[v]['duration'] for u, v in G.edges()}, font_color='red')\n",
        "    plt.title(\"Project Schedule\")\n",
        "    plt.show()\n",
        "\n",
        "    return critical_path, critical_path_duration\n",
        "\n",
        "tasks = {\n",
        "    'A': (23, []),\n",
        "    'B': (8, []),\n",
        "    'C': (20, []),\n",
        "    'D': (16, ['A']),\n",
        "    'E': (24, ['A']),\n",
        "    'F': (18, ['B', 'D']),\n",
        "    'G': (19, ['C']),\n",
        "    'H': (4, ['B']),\n",
        "    'I': (10, ['F', 'G'])\n",
        "}\n",
        "\n",
        "critical_path, project_duration = cpm(tasks)\n",
        "print(\"Critical Path:\", critical_path)\n",
        "print(\"Project Duration:\", project_duration)"
      ],
      "metadata": {
        "id": "iGAmA55DPcTi",
        "colab": {
          "base_uri": "https://localhost:8080/",
          "height": 575
        },
        "outputId": "7600259d-a37c-4894-8e1d-947aae5552fb"
      },
      "execution_count": null,
      "outputs": [
        {
          "output_type": "display_data",
          "data": {
            "text/plain": [
              "<Figure size 640x480 with 1 Axes>"
            ],
            "image/png": "[encoded data removed]"
          },
          "metadata": {}
        },
        {
          "output_type": "stream",
          "name": "stdout",
          "text": [
            "Critical Path: ['A', 'D', 'F', 'I']\n",
            "Project Duration: 67\n"
          ]
        }
      ]
    },
    {
      "cell_type": "code",
      "source": [
        "import numpy as np\n",
        "from sklearn.linear_model import LinearRegression\n",
        "import matplotlib.pyplot as plt\n",
        "from sklearn.metrics import mean_squared_error, r2_score\n",
        "\n",
        "# Sample data\n",
        "x = np.array([1, 2, 3, 4, 5]).reshape(-1, 1)  # Reshape to a column vector\n",
        "y = np.array([4, 6, 4, 5, 10])\n",
        "\n",
        "# Perform linear regression\n",
        "model = LinearRegression()\n",
        "model.fit(x, y)\n",
        "\n",
        "# Get the slope and intercept\n",
        "slope = model.coef_[0]\n",
        "intercept = model.intercept_\n",
        "\n",
        "# Predicted values\n",
        "y_pred = model.predict(x)\n",
        "m = mean_squared_error(y, y_pred)\n",
        "r = r2_score(y, y_pred)\n",
        "print(m, r)\n",
        "# Plot the data and the regression line\n",
        "\n",
        "plt.scatter(x, y, color='blue', label='Data Points')\n",
        "plt.plot(x, y_pred, color='red', label='Regression Line')\n",
        "plt.xlabel('X')\n",
        "plt.ylabel('Y')\n",
        "plt.title('Linear Regression')\n",
        "plt.legend()\n",
        "\n",
        "# Display the equation of the line\n",
        "print(f\"Equation of the line: y = {slope:.2f}x + {intercept:.2f}\")"
      ],
      "metadata": {
        "colab": {
          "base_uri": "https://localhost:8080/",
          "height": 507
        },
        "id": "x6b7oPOiKeOA",
        "outputId": "87fc02d8-7fe4-4c75-e2fe-93cdf1128e97"
      },
      "execution_count": null,
      "outputs": [
        {
          "output_type": "stream",
          "name": "stdout",
          "text": [
            "2.5400000000000005 0.4879032258064514\n",
            "Equation of the line: y = 1.10x + 2.50\n"
          ]
        },
        {
          "output_type": "display_data",
          "data": {
            "text/plain": [
              "<Figure size 640x480 with 1 Axes>"
            ],
            "image/png": "[encoded data removed]"
          },
          "metadata": {}
        }
      ]
    },
    {
      "cell_type": "code",
      "source": [
        "#Multi Linear regression\n",
        "from sklearn.datasets import load_diabetes\n",
        "import pandas as pd\n",
        "\n",
        "# Load the Diabetes dataset\n",
        "diabetes = load_diabetes()\n",
        "\n",
        "# Convert the dataset to a DataFrame\n",
        "diabetes_df = pd.DataFrame(diabetes.data, columns=diabetes.feature_names)\n",
        "\n",
        "diabetes_df"
      ],
      "metadata": {
        "colab": {
          "base_uri": "https://localhost:8080/",
          "height": 424
        },
        "id": "Vp1UMxu1v5Lf",
        "outputId": "c5959889-d0a0-4d41-c7d6-b969476385c8"
      },
      "execution_count": null,
      "outputs": [
        {
          "output_type": "execute_result",
          "data": {
            "text/plain": [
              "          age       sex       bmi        bp        s1        s2        s3  \\\n",
              "0    0.038076  0.050680  0.061696  0.021872 -0.044223 -0.034821 -0.043401   \n",
              "1   -0.001882 -0.044642 -0.051474 -0.026328 -0.008449 -0.019163  0.074412   \n",
              "2    0.085299  0.050680  0.044451 -0.005670 -0.045599 -0.034194 -0.032356   \n",
              "3   -0.089063 -0.044642 -0.011595 -0.036656  0.012191  0.024991 -0.036038   \n",
              "4    0.005383 -0.044642 -0.036385  0.021872  0.003935  0.015596  0.008142   \n",
              "..        ...       ...       ...       ...       ...       ...       ...   \n",
              "437  0.041708  0.050680  0.019662  0.059744 -0.005697 -0.002566 -0.028674   \n",
              "438 -0.005515  0.050680 -0.015906 -0.067642  0.049341  0.079165 -0.028674   \n",
              "439  0.041708  0.050680 -0.015906  0.017293 -0.037344 -0.013840 -0.024993   \n",
              "440 -0.045472 -0.044642  0.039062  0.001215  0.016318  0.015283 -0.028674   \n",
              "441 -0.045472 -0.044642 -0.073030 -0.081413  0.083740  0.027809  0.173816   \n",
              "\n",
              "           s4        s5        s6  \n",
              "0   -0.002592  0.019907 -0.017646  \n",
              "1   -0.039493 -0.068332 -0.092204  \n",
              "2   -0.002592  0.002861 -0.025930  \n",
              "3    0.034309  0.022688 -0.009362  \n",
              "4   -0.002592 -0.031988 -0.046641  \n",
              "..        ...       ...       ...  \n",
              "437 -0.002592  0.031193  0.007207  \n",
              "438  0.034309 -0.018114  0.044485  \n",
              "439 -0.011080 -0.046883  0.015491  \n",
              "440  0.026560  0.044529 -0.025930  \n",
              "441 -0.039493 -0.004222  0.003064  \n",
              "\n",
              "[442 rows x 10 columns]"
            ],
            "text/html": [
              "\n",
              "  <div id=\"df-e15af73a-2517-4813-a4f7-589e9d5d85ec\" class=\"colab-df-container\">\n",
              "    <div>\n",
              "<style scoped>\n",
              "    .dataframe tbody tr th:only-of-type {\n",
              "        vertical-align: middle;\n",
              "    }\n",
              "\n",
              "    .dataframe tbody tr th {\n",
              "        vertical-align: top;\n",
              "    }\n",
              "\n",
              "    .dataframe thead th {\n",
              "        text-align: right;\n",
              "    }\n",
              "</style>\n",
              "<table border=\"1\" class=\"dataframe\">\n",
              "  <thead>\n",
              "    <tr style=\"text-align: right;\">\n",
              "      <th></th>\n",
              "      <th>age</th>\n",
              "      <th>sex</th>\n",
              "      <th>bmi</th>\n",
              "      <th>bp</th>\n",
              "      <th>s1</th>\n",
              "      <th>s2</th>\n",
              "      <th>s3</th>\n",
              "      <th>s4</th>\n",
              "      <th>s5</th>\n",
              "      <th>s6</th>\n",
              "    </tr>\n",
              "  </thead>\n",
              "  <tbody>\n",
              "    <tr>\n",
              "      <th>0</th>\n",
              "      <td>0.038076</td>\n",
              "      <td>0.050680</td>\n",
              "      <td>0.061696</td>\n",
              "      <td>0.021872</td>\n",
              "      <td>-0.044223</td>\n",
              "      <td>-0.034821</td>\n",
              "      <td>-0.043401</td>\n",
              "      <td>-0.002592</td>\n",
              "      <td>0.019907</td>\n",
              "      <td>-0.017646</td>\n",
              "    </tr>\n",
              "    <tr>\n",
              "      <th>1</th>\n",
              "      <td>-0.001882</td>\n",
              "      <td>-0.044642</td>\n",
              "      <td>-0.051474</td>\n",
              "      <td>-0.026328</td>\n",
              "      <td>-0.008449</td>\n",
              "      <td>-0.019163</td>\n",
              "      <td>0.074412</td>\n",
              "      <td>-0.039493</td>\n",
              "      <td>-0.068332</td>\n",
              "      <td>-0.092204</td>\n",
              "    </tr>\n",
              "    <tr>\n",
              "      <th>2</th>\n",
              "      <td>0.085299</td>\n",
              "      <td>0.050680</td>\n",
              "      <td>0.044451</td>\n",
              "      <td>-0.005670</td>\n",
              "      <td>-0.045599</td>\n",
              "      <td>-0.034194</td>\n",
              "      <td>-0.032356</td>\n",
              "      <td>-0.002592</td>\n",
              "      <td>0.002861</td>\n",
              "      <td>-0.025930</td>\n",
              "    </tr>\n",
              "    <tr>\n",
              "      <th>3</th>\n",
              "      <td>-0.089063</td>\n",
              "      <td>-0.044642</td>\n",
              "      <td>-0.011595</td>\n",
              "      <td>-0.036656</td>\n",
              "      <td>0.012191</td>\n",
              "      <td>0.024991</td>\n",
              "      <td>-0.036038</td>\n",
              "      <td>0.034309</td>\n",
              "      <td>0.022688</td>\n",
              "      <td>-0.009362</td>\n",
              "    </tr>\n",
              "    <tr>\n",
              "      <th>4</th>\n",
              "      <td>0.005383</td>\n",
              "      <td>-0.044642</td>\n",
              "      <td>-0.036385</td>\n",
              "      <td>0.021872</td>\n",
              "      <td>0.003935</td>\n",
              "      <td>0.015596</td>\n",
              "      <td>0.008142</td>\n",
              "      <td>-0.002592</td>\n",
              "      <td>-0.031988</td>\n",
              "      <td>-0.046641</td>\n",
              "    </tr>\n",
              "    <tr>\n",
              "      <th>...</th>\n",
              "      <td>...</td>\n",
              "      <td>...</td>\n",
              "      <td>...</td>\n",
              "      <td>...</td>\n",
              "      <td>...</td>\n",
              "      <td>...</td>\n",
              "      <td>...</td>\n",
              "      <td>...</td>\n",
              "      <td>...</td>\n",
              "      <td>...</td>\n",
              "    </tr>\n",
              "    <tr>\n",
              "      <th>437</th>\n",
              "      <td>0.041708</td>\n",
              "      <td>0.050680</td>\n",
              "      <td>0.019662</td>\n",
              "      <td>0.059744</td>\n",
              "      <td>-0.005697</td>\n",
              "      <td>-0.002566</td>\n",
              "      <td>-0.028674</td>\n",
              "      <td>-0.002592</td>\n",
              "      <td>0.031193</td>\n",
              "      <td>0.007207</td>\n",
              "    </tr>\n",
              "    <tr>\n",
              "      <th>438</th>\n",
              "      <td>-0.005515</td>\n",
              "      <td>0.050680</td>\n",
              "      <td>-0.015906</td>\n",
              "      <td>-0.067642</td>\n",
              "      <td>0.049341</td>\n",
              "      <td>0.079165</td>\n",
              "      <td>-0.028674</td>\n",
              "      <td>0.034309</td>\n",
              "      <td>-0.018114</td>\n",
              "      <td>0.044485</td>\n",
              "    </tr>\n",
              "    <tr>\n",
              "      <th>439</th>\n",
              "      <td>0.041708</td>\n",
              "      <td>0.050680</td>\n",
              "      <td>-0.015906</td>\n",
              "      <td>0.017293</td>\n",
              "      <td>-0.037344</td>\n",
              "      <td>-0.013840</td>\n",
              "      <td>-0.024993</td>\n",
              "      <td>-0.011080</td>\n",
              "      <td>-0.046883</td>\n",
              "      <td>0.015491</td>\n",
              "    </tr>\n",
              "    <tr>\n",
              "      <th>440</th>\n",
              "      <td>-0.045472</td>\n",
              "      <td>-0.044642</td>\n",
              "      <td>0.039062</td>\n",
              "      <td>0.001215</td>\n",
              "      <td>0.016318</td>\n",
              "      <td>0.015283</td>\n",
              "      <td>-0.028674</td>\n",
              "      <td>0.026560</td>\n",
              "      <td>0.044529</td>\n",
              "      <td>-0.025930</td>\n",
              "    </tr>\n",
              "    <tr>\n",
              "      <th>441</th>\n",
              "      <td>-0.045472</td>\n",
              "      <td>-0.044642</td>\n",
              "      <td>-0.073030</td>\n",
              "      <td>-0.081413</td>\n",
              "      <td>0.083740</td>\n",
              "      <td>0.027809</td>\n",
              "      <td>0.173816</td>\n",
              "      <td>-0.039493</td>\n",
              "      <td>-0.004222</td>\n",
              "      <td>0.003064</td>\n",
              "    </tr>\n",
              "  </tbody>\n",
              "</table>\n",
              "<p>442 rows × 10 columns</p>\n",
              "</div>\n",
              "    <div class=\"colab-df-buttons\">\n",
              "\n",
              "  <div class=\"colab-df-container\">\n",
              "    <button class=\"colab-df-convert\" onclick=\"convertToInteractive('df-e15af73a-2517-4813-a4f7-589e9d5d85ec')\"\n",
              "            title=\"Convert this dataframe to an interactive table.\"\n",
              "            style=\"display:none;\">\n",
              "\n",
              "  <svg xmlns=\"http://www.w3.org/2000/svg\" height=\"24px\" viewBox=\"0 -960 960 960\">\n",
              "    <path d=\"M120-120v-720h720v720H120Zm60-500h600v-160H180v160Zm220 220h160v-160H400v160Zm0 220h160v-160H400v160ZM180-400h160v-160H180v160Zm440 0h160v-160H620v160ZM180-180h160v-160H180v160Zm440 0h160v-160H620v160Z\"/>\n",
              "  </svg>\n",
              "    </button>\n",
              "\n",
              "  <style>\n",
              "    .colab-df-container {\n",
              "      display:flex;\n",
              "      gap: 12px;\n",
              "    }\n",
              "\n",
              "    .colab-df-convert {\n",
              "      background-color: #E8F0FE;\n",
              "      border: none;\n",
              "      border-radius: 50%;\n",
              "      cursor: pointer;\n",
              "      display: none;\n",
              "      fill: #1967D2;\n",
              "      height: 32px;\n",
              "      padding: 0 0 0 0;\n",
              "      width: 32px;\n",
              "    }\n",
              "\n",
              "    .colab-df-convert:hover {\n",
              "      background-color: #E2EBFA;\n",
              "      box-shadow: 0px 1px 2px rgba(60, 64, 67, 0.3), 0px 1px 3px 1px rgba(60, 64, 67, 0.15);\n",
              "      fill: #174EA6;\n",
              "    }\n",
              "\n",
              "    .colab-df-buttons div {\n",
              "      margin-bottom: 4px;\n",
              "    }\n",
              "\n",
              "    [theme=dark] .colab-df-convert {\n",
              "      background-color: #3B4455;\n",
              "      fill: #D2E3FC;\n",
              "    }\n",
              "\n",
              "    [theme=dark] .colab-df-convert:hover {\n",
              "      background-color: #434B5C;\n",
              "      box-shadow: 0px 1px 3px 1px rgba(0, 0, 0, 0.15);\n",
              "      filter: drop-shadow(0px 1px 2px rgba(0, 0, 0, 0.3));\n",
              "      fill: #FFFFFF;\n",
              "    }\n",
              "  </style>\n",
              "\n",
              "    <script>\n",
              "      const buttonEl =\n",
              "        document.querySelector('#df-e15af73a-2517-4813-a4f7-589e9d5d85ec button.colab-df-convert');\n",
              "      buttonEl.style.display =\n",
              "        google.colab.kernel.accessAllowed ? 'block' : 'none';\n",
              "\n",
              "      async function convertToInteractive(key) {\n",
              "        const element = document.querySelector('#df-e15af73a-2517-4813-a4f7-589e9d5d85ec');\n",
              "        const dataTable =\n",
              "          await google.colab.kernel.invokeFunction('convertToInteractive',\n",
              "                                                    [key], {});\n",
              "        if (!dataTable) return;\n",
              "\n",
              "        const docLinkHtml = 'Like what you see? Visit the ' +\n",
              "          '<a target=\"_blank\" href=https://colab.research.google.com/notebooks/data_table.ipynb>data table notebook</a>'\n",
              "          + ' to learn more about interactive tables.';\n",
              "        element.innerHTML = '';\n",
              "        dataTable['output_type'] = 'display_data';\n",
              "        await google.colab.output.renderOutput(dataTable, element);\n",
              "        const docLink = document.createElement('div');\n",
              "        docLink.innerHTML = docLinkHtml;\n",
              "        element.appendChild(docLink);\n",
              "      }\n",
              "    </script>\n",
              "  </div>\n",
              "\n",
              "\n",
              "<div id=\"df-260b056b-dfde-40dc-9ba8-0894e5e80b0d\">\n",
              "  <button class=\"colab-df-quickchart\" onclick=\"quickchart('df-260b056b-dfde-40dc-9ba8-0894e5e80b0d')\"\n",
              "            title=\"Suggest charts\"\n",
              "            style=\"display:none;\">\n",
              "\n",
              "<svg xmlns=\"http://www.w3.org/2000/svg\" height=\"24px\"viewBox=\"0 0 24 24\"\n",
              "     width=\"24px\">\n",
              "    <g>\n",
              "        <path d=\"M19 3H5c-1.1 0-2 .9-2 2v14c0 1.1.9 2 2 2h14c1.1 0 2-.9 2-2V5c0-1.1-.9-2-2-2zM9 17H7v-7h2v7zm4 0h-2V7h2v10zm4 0h-2v-4h2v4z\"/>\n",
              "    </g>\n",
              "</svg>\n",
              "  </button>\n",
              "\n",
              "<style>\n",
              "  .colab-df-quickchart {\n",
              "      --bg-color: #E8F0FE;\n",
              "      --fill-color: #1967D2;\n",
              "      --hover-bg-color: #E2EBFA;\n",
              "      --hover-fill-color: #174EA6;\n",
              "      --disabled-fill-color: #AAA;\n",
              "      --disabled-bg-color: #DDD;\n",
              "  }\n",
              "\n",
              "  [theme=dark] .colab-df-quickchart {\n",
              "      --bg-color: #3B4455;\n",
              "      --fill-color: #D2E3FC;\n",
              "      --hover-bg-color: #434B5C;\n",
              "      --hover-fill-color: #FFFFFF;\n",
              "      --disabled-bg-color: #3B4455;\n",
              "      --disabled-fill-color: #666;\n",
              "  }\n",
              "\n",
              "  .colab-df-quickchart {\n",
              "    background-color: var(--bg-color);\n",
              "    border: none;\n",
              "    border-radius: 50%;\n",
              "    cursor: pointer;\n",
              "    display: none;\n",
              "    fill: var(--fill-color);\n",
              "    height: 32px;\n",
              "    padding: 0;\n",
              "    width: 32px;\n",
              "  }\n",
              "\n",
              "  .colab-df-quickchart:hover {\n",
              "    background-color: var(--hover-bg-color);\n",
              "    box-shadow: 0 1px 2px rgba(60, 64, 67, 0.3), 0 1px 3px 1px rgba(60, 64, 67, 0.15);\n",
              "    fill: var(--button-hover-fill-color);\n",
              "  }\n",
              "\n",
              "  .colab-df-quickchart-complete:disabled,\n",
              "  .colab-df-quickchart-complete:disabled:hover {\n",
              "    background-color: var(--disabled-bg-color);\n",
              "    fill: var(--disabled-fill-color);\n",
              "    box-shadow: none;\n",
              "  }\n",
              "\n",
              "  .colab-df-spinner {\n",
              "    border: 2px solid var(--fill-color);\n",
              "    border-color: transparent;\n",
              "    border-bottom-color: var(--fill-color);\n",
              "    animation:\n",
              "      spin 1s steps(1) infinite;\n",
              "  }\n",
              "\n",
              "  @keyframes spin {\n",
              "    0% {\n",
              "      border-color: transparent;\n",
              "      border-bottom-color: var(--fill-color);\n",
              "      border-left-color: var(--fill-color);\n",
              "    }\n",
              "    20% {\n",
              "      border-color: transparent;\n",
              "      border-left-color: var(--fill-color);\n",
              "      border-top-color: var(--fill-color);\n",
              "    }\n",
              "    30% {\n",
              "      border-color: transparent;\n",
              "      border-left-color: var(--fill-color);\n",
              "      border-top-color: var(--fill-color);\n",
              "      border-right-color: var(--fill-color);\n",
              "    }\n",
              "    40% {\n",
              "      border-color: transparent;\n",
              "      border-right-color: var(--fill-color);\n",
              "      border-top-color: var(--fill-color);\n",
              "    }\n",
              "    60% {\n",
              "      border-color: transparent;\n",
              "      border-right-color: var(--fill-color);\n",
              "    }\n",
              "    80% {\n",
              "      border-color: transparent;\n",
              "      border-right-color: var(--fill-color);\n",
              "      border-bottom-color: var(--fill-color);\n",
              "    }\n",
              "    90% {\n",
              "      border-color: transparent;\n",
              "      border-bottom-color: var(--fill-color);\n",
              "    }\n",
              "  }\n",
              "</style>\n",
              "\n",
              "  <script>\n",
              "    async function quickchart(key) {\n",
              "      const quickchartButtonEl =\n",
              "        document.querySelector('#' + key + ' button');\n",
              "      quickchartButtonEl.disabled = true;  // To prevent multiple clicks.\n",
              "      quickchartButtonEl.classList.add('colab-df-spinner');\n",
              "      try {\n",
              "        const charts = await google.colab.kernel.invokeFunction(\n",
              "            'suggestCharts', [key], {});\n",
              "      } catch (error) {\n",
              "        console.error('Error during call to suggestCharts:', error);\n",
              "      }\n",
              "      quickchartButtonEl.classList.remove('colab-df-spinner');\n",
              "      quickchartButtonEl.classList.add('colab-df-quickchart-complete');\n",
              "    }\n",
              "    (() => {\n",
              "      let quickchartButtonEl =\n",
              "        document.querySelector('#df-260b056b-dfde-40dc-9ba8-0894e5e80b0d button');\n",
              "      quickchartButtonEl.style.display =\n",
              "        google.colab.kernel.accessAllowed ? 'block' : 'none';\n",
              "    })();\n",
              "  </script>\n",
              "</div>\n",
              "\n",
              "  <div id=\"id_3f9efc27-f0b2-4050-b607-295ae83c40dd\">\n",
              "    <style>\n",
              "      .colab-df-generate {\n",
              "        background-color: #E8F0FE;\n",
              "        border: none;\n",
              "        border-radius: 50%;\n",
              "        cursor: pointer;\n",
              "        display: none;\n",
              "        fill: #1967D2;\n",
              "        height: 32px;\n",
              "        padding: 0 0 0 0;\n",
              "        width: 32px;\n",
              "      }\n",
              "\n",
              "      .colab-df-generate:hover {\n",
              "        background-color: #E2EBFA;\n",
              "        box-shadow: 0px 1px 2px rgba(60, 64, 67, 0.3), 0px 1px 3px 1px rgba(60, 64, 67, 0.15);\n",
              "        fill: #174EA6;\n",
              "      }\n",
              "\n",
              "      [theme=dark] .colab-df-generate {\n",
              "        background-color: #3B4455;\n",
              "        fill: #D2E3FC;\n",
              "      }\n",
              "\n",
              "      [theme=dark] .colab-df-generate:hover {\n",
              "        background-color: #434B5C;\n",
              "        box-shadow: 0px 1px 3px 1px rgba(0, 0, 0, 0.15);\n",
              "        filter: drop-shadow(0px 1px 2px rgba(0, 0, 0, 0.3));\n",
              "        fill: #FFFFFF;\n",
              "      }\n",
              "    </style>\n",
              "    <button class=\"colab-df-generate\" onclick=\"generateWithVariable('diabetes_df')\"\n",
              "            title=\"Generate code using this dataframe.\"\n",
              "            style=\"display:none;\">\n",
              "\n",
              "  <svg xmlns=\"http://www.w3.org/2000/svg\" height=\"24px\"viewBox=\"0 0 24 24\"\n",
              "       width=\"24px\">\n",
              "    <path d=\"M7,19H8.4L18.45,9,17,7.55,7,17.6ZM5,21V16.75L18.45,3.32a2,2,0,0,1,2.83,0l1.4,1.43a1.91,1.91,0,0,1,.58,1.4,1.91,1.91,0,0,1-.58,1.4L9.25,21ZM18.45,9,17,7.55Zm-12,3A5.31,5.31,0,0,0,4.9,8.1,5.31,5.31,0,0,0,1,6.5,5.31,5.31,0,0,0,4.9,4.9,5.31,5.31,0,0,0,6.5,1,5.31,5.31,0,0,0,8.1,4.9,5.31,5.31,0,0,0,12,6.5,5.46,5.46,0,0,0,6.5,12Z\"/>\n",
              "  </svg>\n",
              "    </button>\n",
              "    <script>\n",
              "      (() => {\n",
              "      const buttonEl =\n",
              "        document.querySelector('#id_3f9efc27-f0b2-4050-b607-295ae83c40dd button.colab-df-generate');\n",
              "      buttonEl.style.display =\n",
              "        google.colab.kernel.accessAllowed ? 'block' : 'none';\n",
              "\n",
              "      buttonEl.onclick = () => {\n",
              "        google.colab.notebook.generateWithVariable('diabetes_df');\n",
              "      }\n",
              "      })();\n",
              "    </script>\n",
              "  </div>\n",
              "\n",
              "    </div>\n",
              "  </div>\n"
            ],
            "application/vnd.google.colaboratory.intrinsic+json": {
              "type": "dataframe",
              "variable_name": "diabetes_df",
              "summary": "{\n  \"name\": \"diabetes_df\",\n  \"rows\": 442,\n  \"fields\": [\n    {\n      \"column\": \"age\",\n      \"properties\": {\n        \"dtype\": \"number\",\n        \"std\": 0.047619047619047644,\n        \"min\": -0.1072256316073538,\n        \"max\": 0.11072667545381144,\n        \"num_unique_values\": 58,\n        \"samples\": [\n          0.038075906433423026,\n          -0.09269547780327612,\n          0.01991321417832592\n        ],\n        \"semantic_type\": \"\",\n        \"description\": \"\"\n      }\n    },\n    {\n      \"column\": \"sex\",\n      \"properties\": {\n        \"dtype\": \"number\",\n        \"std\": 0.047619047619047665,\n        \"min\": -0.044641636506989144,\n        \"max\": 0.05068011873981862,\n        \"num_unique_values\": 2,\n        \"samples\": [\n          -0.044641636506989144,\n          0.05068011873981862\n        ],\n        \"semantic_type\": \"\",\n        \"description\": \"\"\n      }\n    },\n    {\n      \"column\": \"bmi\",\n      \"properties\": {\n        \"dtype\": \"number\",\n        \"std\": 0.047619047619047616,\n        \"min\": -0.09027529589850945,\n        \"max\": 0.17055522598064407,\n        \"num_unique_values\": 163,\n        \"samples\": [\n          0.008883414898524095,\n          -0.05470749746044306\n        ],\n        \"semantic_type\": \"\",\n        \"description\": \"\"\n      }\n    },\n    {\n      \"column\": \"bp\",\n      \"properties\": {\n        \"dtype\": \"number\",\n        \"std\": 0.047619047619047596,\n        \"min\": -0.11239880254408448,\n        \"max\": 0.13204361674121307,\n        \"num_unique_values\": 100,\n        \"samples\": [\n          0.03333707926361473,\n          0.02531523648988596\n        ],\n        \"semantic_type\": \"\",\n        \"description\": \"\"\n      }\n    },\n    {\n      \"column\": \"s1\",\n      \"properties\": {\n        \"dtype\": \"number\",\n        \"std\": 0.04761904761904759,\n        \"min\": -0.12678066991651324,\n        \"max\": 0.15391371315651542,\n        \"num_unique_values\": 141,\n        \"samples\": [\n          0.041085578784023497,\n          0.08374011738825825\n        ],\n        \"semantic_type\": \"\",\n        \"description\": \"\"\n      }\n    },\n    {\n      \"column\": \"s2\",\n      \"properties\": {\n        \"dtype\": \"number\",\n        \"std\": 0.047619047619047644,\n        \"min\": -0.11561306597939897,\n        \"max\": 0.19878798965729408,\n        \"num_unique_values\": 302,\n        \"samples\": [\n          0.07415490186505921,\n          0.07008397186179521\n        ],\n        \"semantic_type\": \"\",\n        \"description\": \"\"\n      }\n    },\n    {\n      \"column\": \"s3\",\n      \"properties\": {\n        \"dtype\": \"number\",\n        \"std\": 0.047619047619047596,\n        \"min\": -0.10230705051741597,\n        \"max\": 0.18117906039727852,\n        \"num_unique_values\": 63,\n        \"samples\": [\n          0.09281975309919192,\n          0.15908923357275687\n        ],\n        \"semantic_type\": \"\",\n        \"description\": \"\"\n      }\n    },\n    {\n      \"column\": \"s4\",\n      \"properties\": {\n        \"dtype\": \"number\",\n        \"std\": 0.047619047619047616,\n        \"min\": -0.0763945037500033,\n        \"max\": 0.18523444326019867,\n        \"num_unique_values\": 66,\n        \"samples\": [\n          0.08670845052151895,\n          -0.024732934523729287\n        ],\n        \"semantic_type\": \"\",\n        \"description\": \"\"\n      }\n    },\n    {\n      \"column\": \"s5\",\n      \"properties\": {\n        \"dtype\": \"number\",\n        \"std\": 0.047619047619047616,\n        \"min\": -0.12609712083330468,\n        \"max\": 0.13359728192191356,\n        \"num_unique_values\": 184,\n        \"samples\": [\n          -0.07213275338232743,\n          -0.021395309255276825\n        ],\n        \"semantic_type\": \"\",\n        \"description\": \"\"\n      }\n    },\n    {\n      \"column\": \"s6\",\n      \"properties\": {\n        \"dtype\": \"number\",\n        \"std\": 0.047619047619047644,\n        \"min\": -0.13776722569000302,\n        \"max\": 0.13561183068907107,\n        \"num_unique_values\": 56,\n        \"samples\": [\n          -0.01764612515980379,\n          -0.09634615654165846\n        ],\n        \"semantic_type\": \"\",\n        \"description\": \"\"\n      }\n    }\n  ]\n}"
            }
          },
          "metadata": {},
          "execution_count": 50
        }
      ]
    },
    {
      "cell_type": "code",
      "source": [
        "# Multi-Linear Regression\n",
        "from sklearn.datasets import load_diabetes\n",
        "from sklearn.model_selection import train_test_split\n",
        "from sklearn.linear_model import LinearRegression\n",
        "from sklearn.metrics import mean_squared_error, r2_score\n",
        "\n",
        "diabetes = load_diabetes()\n",
        "\n",
        "X = diabetes.data\n",
        "y = diabetes.target\n",
        "\n",
        "X_train, X_test, y_train, y_test = train_test_split(X, y, test_size=0.2, random_state=42)\n",
        "\n",
        "model = LinearRegression()\n",
        "\n",
        "model.fit(X_train, y_train)\n",
        "\n",
        "y_pred = model.predict(X_test)\n",
        "\n",
        "mse = mean_squared_error(y_test, y_pred)\n",
        "r2 = r2_score(y_test, y_pred)\n",
        "\n",
        "print(\"Mean Squared Error:\", mse)\n",
        "print(\"R^2 Score:\", r2)"
      ],
      "metadata": {
        "id": "GKs_i5wFPcEN",
        "colab": {
          "base_uri": "https://localhost:8080/"
        },
        "outputId": "d4f06d3b-a6c6-41d7-c170-e3d7943d8f08"
      },
      "execution_count": null,
      "outputs": [
        {
          "output_type": "stream",
          "name": "stdout",
          "text": [
            "Mean Squared Error: 2900.193628493482\n",
            "R^2 Score: 0.4526027629719195\n"
          ]
        }
      ]
    },
    {
      "cell_type": "code",
      "source": [
        "# Polynomial Regression\n",
        "import numpy as np\n",
        "import matplotlib.pyplot as plt\n",
        "from sklearn.linear_model import LinearRegression\n",
        "from sklearn.preprocessing import PolynomialFeatures\n",
        "from sklearn.metrics import mean_squared_error\n",
        "from sklearn.metrics import r2_score\n",
        "\n",
        "np.random.seed(0)\n",
        "X = 6 * np.random.rand(100, 1) - 3\n",
        "y = 0.5 * X**2 + X + 2 + np.random.randn(100, 1)\n",
        "\n",
        "plt.scatter(X, y, color='blue', label='Data')\n",
        "\n",
        "degree = 2\n",
        "poly_features = PolynomialFeatures(degree=degree)\n",
        "X_poly = poly_features.fit_transform(X)\n",
        "poly_regression = LinearRegression()\n",
        "poly_regression.fit(X_poly, y)\n",
        "\n",
        "y_pred = poly_regression.predict(X_poly)\n",
        "\n",
        "X_plot = np.linspace(-3, 3, 100).reshape(-1, 1)\n",
        "X_plot_poly = poly_features.transform(X_plot)\n",
        "y_plot_pred = poly_regression.predict(X_plot_poly)\n",
        "plt.plot(X_plot, y_plot_pred, color='red', label='Polynomial Regression')\n",
        "\n",
        "plt.xlabel('X')\n",
        "plt.ylabel('y')\n",
        "plt.title('Polynomial Regression')\n",
        "plt.legend()\n",
        "\n",
        "plt.show()\n",
        "\n",
        "mse = mean_squared_error(y, y_pred)\n",
        "r2 = r2_score(y, y_pred)\n",
        "print(\"\\nMean Squared Error:\", mse)\n",
        "print(\"R^2 Score:\", r2)"
      ],
      "metadata": {
        "id": "u-llSfVYPb75",
        "colab": {
          "base_uri": "https://localhost:8080/",
          "height": 525
        },
        "outputId": "6c0ace3f-1bed-4f9b-e91b-c2cd962c4e0b"
      },
      "execution_count": null,
      "outputs": [
        {
          "output_type": "display_data",
          "data": {
            "text/plain": [
              "<Figure size 640x480 with 1 Axes>"
            ],
            "image/png": "[encoded data removed]"
          },
          "metadata": {}
        },
        {
          "output_type": "stream",
          "name": "stdout",
          "text": [
            "\n",
            "Mean Squared Error: 0.9735576723414217\n",
            "R^2 Score: 0.7986804740691372\n"
          ]
        }
      ]
    }
  ]
}